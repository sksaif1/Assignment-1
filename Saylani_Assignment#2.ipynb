{
 "cells": [
  {
   "cell_type": "code",
   "execution_count": 1,
   "metadata": {},
   "outputs": [
    {
     "name": "stdout",
     "output_type": "stream",
     "text": [
      "Enter marks of the first subject: 61\n",
      "Enter marks of the second subject: 87\n",
      "Enter marks of the Third subject: 68\n",
      "Enter marks of the fourth subject: 61\n",
      "Enter marks of the Fivth subject: 84\n",
      "Grade: B\n"
     ]
    }
   ],
   "source": [
    "sub1=int(input(\"Enter marks of the first subject: \"))\n",
    "sub2=int(input(\"Enter marks of the second subject: \"))\n",
    "sub3=int(input(\"Enter marks of the Third subject: \"))\n",
    "sub4=int(input(\"Enter marks of the fourth subject: \"))\n",
    "sub5=int(input(\"Enter marks of the Fivth subject: \"))\n",
    "obt=(sub1+sub2+sub3+sub4+sub4)\n",
    "per = (obt*100)/500\n",
    "if(per>=90):\n",
    "    print(\"Grade: A+\")\n",
    "elif(per>=80):\n",
    "    print(\"Grade: A\")\n",
    "elif(per>=60):\n",
    "    print(\"Grade: B\")\n",
    "elif(per>=50):\n",
    "    print(\"Grade: C\")\n",
    "elif(per>=40):\n",
    "    print(\"Grade: D\")\n",
    "elif(per<40):\n",
    "    print(\"You are Fail\")"
   ]
  },
  {
   "cell_type": "code",
   "execution_count": 3,
   "metadata": {},
   "outputs": [
    {
     "name": "stdout",
     "output_type": "stream",
     "text": [
      "Enter the any number=19\n",
      "This is odd number\n"
     ]
    }
   ],
   "source": [
    "a=int(input(\"Enter the any number=\"))\n",
    "if (0==a%2):\n",
    "  print(\"This is even number\")\n",
    "else: \n",
    "  print(\"This is odd number\");"
   ]
  },
  {
   "cell_type": "code",
   "execution_count": 4,
   "metadata": {},
   "outputs": [
    {
     "name": "stdout",
     "output_type": "stream",
     "text": [
      "The length of list is:  6\n"
     ]
    }
   ],
   "source": [
    "n =len([10, 40, 30, 80,20,50]) \n",
    "print(\"The length of list is: \", n)"
   ]
  },
  {
   "cell_type": "code",
   "execution_count": 5,
   "metadata": {},
   "outputs": [
    {
     "name": "stdout",
     "output_type": "stream",
     "text": [
      "46\n"
     ]
    }
   ],
   "source": [
    "numbers =[1,4,6,8,3,1,9,5,7,2] \n",
    "  \n",
    "add=sum(numbers) \n",
    "print(add)"
   ]
  },
  {
   "cell_type": "code",
   "execution_count": 6,
   "metadata": {},
   "outputs": [
    {
     "name": "stdout",
     "output_type": "stream",
     "text": [
      "Largest element is: 98\n"
     ]
    }
   ],
   "source": [
    "  \n",
    "list1 =[69, 20, 40, 55, 74, 98, 96] \n",
    "   \n",
    "print(\"Largest element is:\", max(list1))"
   ]
  },
  {
   "cell_type": "code",
   "execution_count": 7,
   "metadata": {},
   "outputs": [
    {
     "name": "stdout",
     "output_type": "stream",
     "text": [
      "The list : [1, 1, 2, 3, 5, 8, 13, 21, 34, 55, 89]\n",
      "The numbers less than 5 : 4\n"
     ]
    }
   ],
   "source": [
    "\n",
    "test_list = [1, 1, 2, 3, 5, 8, 13, 21, 34, 55, 89] \n",
    " \n",
    "n = 5\n",
    "\n",
    "print (\"The list : \" + str(test_list)) \n",
    "\n",
    "count = len([i for i in test_list if i < n]) \n",
    "\n",
    "print (\"The numbers less than 5 : \" + str(count))"
   ]
  },
  {
   "cell_type": "code",
   "execution_count": null,
   "metadata": {},
   "outputs": [],
   "source": []
  }
 ],
 "metadata": {
  "kernelspec": {
   "display_name": "Python 3",
   "language": "python",
   "name": "python3"
  },
  "language_info": {
   "codemirror_mode": {
    "name": "ipython",
    "version": 3
   },
   "file_extension": ".py",
   "mimetype": "text/x-python",
   "name": "python",
   "nbconvert_exporter": "python",
   "pygments_lexer": "ipython3",
   "version": "3.7.4"
  }
 },
 "nbformat": 4,
 "nbformat_minor": 2
}
