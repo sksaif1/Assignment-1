{
 "cells": [
  {
   "cell_type": "code",
   "execution_count": 1,
   "metadata": {},
   "outputs": [
    {
     "name": "stdout",
     "output_type": "stream",
     "text": [
      "{'first_name': 'Muhammad', 'last_name': 'Saif', 'age': '21', 'city': 'Karachi', 'qualification': 'BSCS'}\n",
      "{'first_name': 'Muhammad', 'last_name': 'Saif', 'age': '21', 'city': 'Karachi', 'qualification': 'MSCS'}\n",
      "{'first_name': 'Muhammad', 'last_name': 'Saif', 'age': '21', 'city': 'Karachi'}\n"
     ]
    }
   ],
   "source": [
    "information = {\n",
    "     \n",
    "        \"first_name\":\"Muhammad\",\n",
    "        \"last_name\":\"Saif\",\n",
    "        \"age\":\"21\",\n",
    "        \"city\":\"Karachi\"        \n",
    "    }\n",
    "information.update({\"qualification\":\"BSCS\"}) \n",
    "print(information)\n",
    "information.update({\"qualification\":\"MSCS\"}) \n",
    "print(information)\n",
    "del information[\"qualification\"] \n",
    "print(information)"
   ]
  },
  {
   "cell_type": "code",
   "execution_count": 2,
   "metadata": {},
   "outputs": [
    {
     "name": "stdout",
     "output_type": "stream",
     "text": [
      "we have three cities in dictionary \n",
      "\n",
      "{'information': {'country': 'pakistan', 'population': '2.5 Crore', 'fact': 'Bussines Hub of Pakistan'}} \n",
      "\n",
      "\n",
      "\n",
      "{'information': {'country': 'England', 'population': '9.18 million', 'fact': 'Most beautiful capital in the World'}} \n",
      "\n",
      "\n",
      "\n",
      "{'information': {'country': 'Japan', 'population': '3.8 crore', 'fact': 'Tokyo is the most populated city in the world'}}\n"
     ]
    }
   ],
   "source": [
    "cities = {\n",
    "    \"karachi_city\":{\n",
    "        \"information\":{\n",
    "            \"country\":\"pakistan\",\n",
    "            \"population\":\"2.5 Crore\",\n",
    "            \"fact\":\"Bussines Hub of Pakistan\"\n",
    "        }\n",
    "    },\n",
    "    \"london_city\":{\n",
    "        \"information\":{\n",
    "            \"country\":\"England\",\n",
    "            \"population\":\"9.18 million\",\n",
    "            \"fact\":\"Most beautiful capital in the World\"\n",
    "        }\n",
    "    },\n",
    "   \n",
    "    \"tokyo_city\":{\n",
    "        \"information\":{\n",
    "            \"country\":\"Japan\",\n",
    "            \"population\":\"3.8 crore\",\n",
    "            \"fact\":\"Tokyo is the most populated city in the world\"\n",
    "        }\n",
    "    }\n",
    "}\n",
    "\n",
    "print(\"we have three cities in dictionary \\n\")\n",
    "karachi = cities[\"karachi_city\"]\n",
    "print(karachi,\"\\n\\n\\n\")\n",
    "london = cities[\"london_city\"]\n",
    "print(london,\"\\n\\n\\n\")\n",
    "tokyo = cities[\"tokyo_city\"]\n",
    "print(tokyo,)\n"
   ]
  },
  {
   "cell_type": "code",
   "execution_count": 3,
   "metadata": {},
   "outputs": [
    {
     "name": "stdout",
     "output_type": "stream",
     "text": [
      "Wellcome to Online ticket Booking System\n",
      "How many person you are: 4\n",
      "Enter age: 20\n",
      "Your ticket price is will be 15$: \n",
      "Enter age: 16\n",
      "Your ticket price is will be 15$: \n",
      "Enter age: 10\n",
      "Your ticket price will be 10$: \n",
      "Enter age: 12\n",
      "Your ticket price will be 10$: \n",
      "Total price: 50\n"
     ]
    }
   ],
   "source": [
    "print(\"Wellcome to Online ticket Booking System\")\n",
    "pre = int(input(\"How many person you are: \"))\n",
    "cost = 0\n",
    "\n",
    "for c in range(1,pre+1):\n",
    "    age = int(input(\"Enter age: \"))\n",
    "    if age <= 3 and pre == 1:\n",
    "        print(\"You are not allow\")\n",
    "    elif age <= 12 and age >= 3:\n",
    "        print(\"Your ticket price will be 10$: \")\n",
    "        cost += 10\n",
    "    elif age >= 12:\n",
    "        print(\"Your ticket price is will be 15$: \")\n",
    "        cost += 15\n",
    "print(\"Total price: \"+str(cost))"
   ]
  },
  {
   "cell_type": "code",
   "execution_count": 6,
   "metadata": {},
   "outputs": [
    {
     "name": "stdout",
     "output_type": "stream",
     "text": [
      "My one of the favorit book is Web Development using Python Django\n"
     ]
    }
   ],
   "source": [
    "def favorite_book(title):\n",
    "    print(\"My one of the favorit book is\",title)\n",
    "\n",
    "favorite_book(title=\"Web Development using Python Django\")"
   ]
  },
  {
   "cell_type": "code",
   "execution_count": 5,
   "metadata": {},
   "outputs": [
    {
     "name": "stdout",
     "output_type": "stream",
     "text": [
      "Guess the number (game)\n",
      "you have three chance to win this game.\n",
      "Enter any number between 1 to 30 \n",
      "10\n",
      "numberr is less than <  10\n",
      "Enter any number between 1 to 30 \n",
      "5\n",
      "numberr is less than <  5\n",
      "Enter any number between 1 to 30 \n",
      "4\n",
      "numberr is less than <  4\n",
      "you lose\n",
      "Answer and Random ganrated number is:  3\n"
     ]
    }
   ],
   "source": [
    "import random\n",
    "\n",
    "print(\"Guess the number (game)\")\n",
    "number = random.randint(1,30)\n",
    "\n",
    "print(\"you have three chance to win this game.\")\n",
    "    \n",
    "for x in (\"abc\"):\n",
    "    user_number = int(input(\"Enter any number between 1 to 30 \\n\"))\n",
    "    if user_number == number:\n",
    "        print(\"you win\")\n",
    "        break\n",
    "    if user_number >= number:\n",
    "        print(\"numberr is less than < \",user_number)\n",
    "    if user_number <= number:\n",
    "        print(\"number is grater than > \",user_number)\n",
    "else:\n",
    "    print(\"you lose\")\n",
    "    print(\"Answer and Random ganrated number is: \",number)"
   ]
  },
  {
   "cell_type": "code",
   "execution_count": null,
   "metadata": {},
   "outputs": [],
   "source": []
  }
 ],
 "metadata": {
  "kernelspec": {
   "display_name": "Python 3",
   "language": "python",
   "name": "python3"
  },
  "language_info": {
   "codemirror_mode": {
    "name": "ipython",
    "version": 3
   },
   "file_extension": ".py",
   "mimetype": "text/x-python",
   "name": "python",
   "nbconvert_exporter": "python",
   "pygments_lexer": "ipython3",
   "version": "3.7.4"
  }
 },
 "nbformat": 4,
 "nbformat_minor": 2
}
