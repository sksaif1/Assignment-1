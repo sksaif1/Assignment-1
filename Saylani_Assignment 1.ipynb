{
 "cells": [
  {
   "cell_type": "code",
   "execution_count": 1,
   "metadata": {},
   "outputs": [
    {
     "name": "stdout",
     "output_type": "stream",
     "text": [
      "\tTwinkle, twinkle, little star,\n",
      "\t      How I wonder what you are!\n",
      "\t\t    Up above the world so high,\n",
      "\t\t    like a diamond in the sky.\n",
      "\tTwinkle, twinkle, little star,\n",
      "\t      How I wonder what you are\n"
     ]
    }
   ],
   "source": [
    "print(\"\\tTwinkle, twinkle, little star,\")\n",
    "print(\"\\t      How I wonder what you are!\") \n",
    "print(\"\\t\\t    Up above the world so high,\")\n",
    "print(\"\\t\\t    like a diamond in the sky.\")\n",
    "print(\"\\tTwinkle, twinkle, little star,\")\n",
    "print(\"\\t      How I wonder what you are\")"
   ]
  },
  {
   "cell_type": "code",
   "execution_count": 2,
   "metadata": {},
   "outputs": [
    {
     "name": "stdout",
     "output_type": "stream",
     "text": [
      "I am using Phyton Version is\n",
      "3.7.4 (default, Aug  9 2019, 18:34:13) [MSC v.1915 64 bit (AMD64)]\n"
     ]
    }
   ],
   "source": [
    "import sys\n",
    "print(\"I am using Phyton Version is\")\n",
    "print(sys.version)"
   ]
  },
  {
   "cell_type": "code",
   "execution_count": 10,
   "metadata": {},
   "outputs": [
    {
     "name": "stdout",
     "output_type": "stream",
     "text": [
      "Now current date and time :\n",
      "04-11-2019 04:27:16\n"
     ]
    }
   ],
   "source": [
    "import datetime\n",
    "now = datetime.datetime.now()\n",
    "print(\"Now current date and time :\")\n",
    "print(now.strftime(\"%d-%m-%Y %H:%M:%S\"))"
   ]
  },
  {
   "cell_type": "code",
   "execution_count": 7,
   "metadata": {},
   "outputs": [
    {
     "name": "stdout",
     "output_type": "stream",
     "text": [
      "Enter the radius of the circle=6\n",
      "The area of circle is: 113.09733552923255\n"
     ]
    }
   ],
   "source": [
    "from math import pi\n",
    "r=float(input(\"Enter the radius of the circle=\"))\n",
    "area=str(pi*(r**2))\n",
    "print(\"The area of circle is:\",area)"
   ]
  },
  {
   "cell_type": "code",
   "execution_count": 9,
   "metadata": {},
   "outputs": [
    {
     "name": "stdout",
     "output_type": "stream",
     "text": [
      "Enter the First Name :saif\n",
      "Enter the Last Name :Muhammad\n",
      "Muhammad saif\n"
     ]
    }
   ],
   "source": [
    "x=input(\"Enter the First Name :\")\n",
    "y=input(\"Enter the Last Name :\")\n",
    "\n",
    "print(y+\" \"+x)"
   ]
  },
  {
   "cell_type": "code",
   "execution_count": 12,
   "metadata": {},
   "outputs": [
    {
     "name": "stdout",
     "output_type": "stream",
     "text": [
      "Enter the first number for addition=65\n",
      "Enter the first number for addition=35\n",
      "additiom of two number is= 100\n"
     ]
    }
   ],
   "source": [
    "\n",
    "a=int(input(\"Enter the first number for addition=\"))\n",
    "b=int(input(\"Enter the first number for addition=\"))\n",
    "c=a+b\n",
    "\n",
    "print(\"additiom of two number is=\",c)"
   ]
  },
  {
   "cell_type": "code",
   "execution_count": null,
   "metadata": {},
   "outputs": [],
   "source": []
  }
 ],
 "metadata": {
  "kernelspec": {
   "display_name": "Python 3",
   "language": "python",
   "name": "python3"
  },
  "language_info": {
   "codemirror_mode": {
    "name": "ipython",
    "version": 3
   },
   "file_extension": ".py",
   "mimetype": "text/x-python",
   "name": "python",
   "nbconvert_exporter": "python",
   "pygments_lexer": "ipython3",
   "version": "3.7.4"
  }
 },
 "nbformat": 4,
 "nbformat_minor": 2
}
