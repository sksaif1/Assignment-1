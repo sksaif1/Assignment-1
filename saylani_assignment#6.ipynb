{
 "cells": [
  {
   "cell_type": "code",
   "execution_count": 4,
   "metadata": {},
   "outputs": [
    {
     "name": "stdout",
     "output_type": "stream",
     "text": [
      "Object-Oriented Programming (OOP) is a programming paradigm where different components of a computer program are \n",
      "modeled after real-world objects. An object is anything that has some characteristics and can perform a function.\n",
      "There are four pillar of OOP\n",
      "1).Inheritance\n",
      "2).Encapsulation \n",
      "3).Polymorphism \n",
      "4).Abstraction\n"
     ]
    }
   ],
   "source": [
    "print('''Object-Oriented Programming (OOP) is a programming paradigm where different components of a computer program are \n",
    "modeled after real-world objects. An object is anything that has some characteristics and can perform a function.\n",
    "There are four pillars of OOP.\n",
    "1).Inheritance\n",
    "2).Encapsulation \n",
    "3).Polymorphism \n",
    "4).Abstraction''')"
   ]
  },
  {
   "cell_type": "code",
   "execution_count": 10,
   "metadata": {},
   "outputs": [
    {
     "name": "stdout",
     "output_type": "stream",
     "text": [
      "Benefits of OOP:-\n",
      "1.Modularity for easier troubleshooting\n",
      "2.Reuse of code through inheritance\n",
      "3.Flexibility through polymorphism\n",
      "4.Effective problem solvingv\n",
      "\n"
     ]
    }
   ],
   "source": [
    "print('''Benefits of OOP:-\n",
    "1.Modularity for easier troubleshooting\n",
    "2.Reuse of code through inheritance\n",
    "3.Flexibility through polymorphism\n",
    "4.Effective problem solvingv\n",
    "''')"
   ]
  },
  {
   "cell_type": "code",
   "execution_count": 8,
   "metadata": {},
   "outputs": [
    {
     "name": "stdout",
     "output_type": "stream",
     "text": [
      "Function:-\n",
      "A function is a piece of code that is called by name. It can be passed data to operate on (i.e. the parameters) \n",
      "and can optionally return data (the return value). All data that is passed to a function is explicitly passed.\n",
      "def function_name ( arg1, arg2) : \n",
      "\t...... \n",
      "\t# function body \n",
      "\t...... \n",
      "\n",
      "\n",
      "Method:-\n",
      "A method is a piece of code that is called by a name that is associated with an object. In most respects \n",
      "it is identical to a function except for two key differences:\n",
      "\n",
      "1).A method is implicitly passed the object on which it was called.\n",
      "2).A method is able to operate on data that is contained within the class (remembering that an object is an instance of a class \n",
      "the class is the definition, the object is an instance of that data)\n",
      "# Basic Python method \n",
      "class class_name \n",
      "\tdef method_name () : \n",
      "\t\t...... \n",
      "\t\t# method body \n",
      "\t\t...... \n",
      "\n"
     ]
    }
   ],
   "source": [
    "print('''Function:-\n",
    "A function is a piece of code that is called by name. It can be passed data to operate on (i.e. the parameters) \n",
    "and can optionally return data (the return value). All data that is passed to a function is explicitly passed.\n",
    "def function_name ( arg1, arg2) : \n",
    "\t...... \n",
    "\t# function body \n",
    "\t...... \n",
    "''')\n",
    "\n",
    "print('''\\nMethod:-\n",
    "A method is a piece of code that is called by a name that is associated with an object. In most respects \n",
    "it is identical to a function except for two key differences:\n",
    "\\n1).A method is implicitly passed the object on which it was called.\n",
    "2).A method is able to operate on data that is contained within the class (remembering that an object is an instance of a class \n",
    "the class is the definition, the object is an instance of that data)\n",
    "# Basic Python method \n",
    "class class_name \n",
    "\tdef method_name () : \n",
    "\t\t...... \n",
    "\t\t# method body \n",
    "\t\t...... \n",
    "''')"
   ]
  },
  {
   "cell_type": "code",
   "execution_count": null,
   "metadata": {},
   "outputs": [],
   "source": [
    "print('''Class:-\n",
    "In object-oriented programming a class is a template definition of the method s and variable s in a particular kind of object\n",
    "Thus an object is a specific instance of a class; it contains real values instead of variables.\n",
    "''')\n",
    "print('''Objects:-\n",
    "In object-oriented programming, a method is a programmed procedure that is defined as part of a class and included in any \n",
    "object of that class.\n",
    "''')\n",
    "print('''Attribute:-\n",
    "Attributes are the individual things that differentiate one object from another and determine the appearance, state, or other\n",
    "qualities of that object. Let's create a theoretical class called Motorcycle. A motorcycle class might include the following\n",
    "attributes and have these typical values:\n",
    "\n",
    "Color: red, green, silver, brown\n",
    "Make: Honda, BMW, Bultaco\n",
    "''')\n",
    "print('''Behavior:-A class's behavior determines how an instance of that class operates; for example, how it will \"react\" if \n",
    "asked to do something by another class or object or if its internal state changes. Behavior is the only way objects can do \n",
    "anything to themselves or have anything done to them. For example, to go back to the theoretical Motorcycle class, here are \n",
    "some behaviors that the Motorcycle class might have:\n",
    "\n",
    "Start the engine\n",
    "Stop the engine\n",
    "Speed up\n",
    "\n",
    "''')\n"
   ]
  },
  {
   "cell_type": "code",
   "execution_count": 26,
   "metadata": {},
   "outputs": [
    {
     "name": "stdout",
     "output_type": "stream",
     "text": [
      "A4 \n",
      "nitro\n",
      "2015\n",
      "Toyota\n",
      "Aqua\n",
      "kia-5363\n",
      "I8\n"
     ]
    }
   ],
   "source": [
    "class Car:\n",
    "    def __init__(self,model,color,name,company,number):\n",
    "        self.model=model\n",
    "        self.color=color\n",
    "        self.name=name\n",
    "        self.company=company\n",
    "        self.number=number\n",
    "        \n",
    "    def print_name(self):\n",
    "        print(\"this car name is : \",self.name)\n",
    "            \n",
    "    def print_UPdatecompany(self):\n",
    "        self.company=\"Suzuki\"\n",
    "        print(self.company)\n",
    "            \n",
    "    def print_number(self):\n",
    "        print(self.number)\n",
    "            \n",
    "car1=Car('2017','Blue','A4 ','Audi','abs-4444')\n",
    "car2=Car('2019','white','nitro','Kia','kia-5363')\n",
    "car3=Car('2015','Black','land Cruiser','Toyota','cda-132')\n",
    "car4=Car('2018','Sky Blue','Aqua','Toyota','khi-8756')\n",
    "car5=Car('2019','mate Black','I8','BMW','bmw-1324')\n",
    "\n",
    "print(car1.name)\n",
    "print(car2.name)\n",
    "print(car3.model)\n",
    "print(car3.company)\n",
    "print(car4.name)\n",
    "print(car2.number)\n",
    "print(car5.name)\n"
   ]
  },
  {
   "cell_type": "code",
   "execution_count": null,
   "metadata": {},
   "outputs": [],
   "source": []
  },
  {
   "cell_type": "code",
   "execution_count": null,
   "metadata": {},
   "outputs": [],
   "source": []
  }
 ],
 "metadata": {
  "kernelspec": {
   "display_name": "Python 3",
   "language": "python",
   "name": "python3"
  },
  "language_info": {
   "codemirror_mode": {
    "name": "ipython",
    "version": 3
   },
   "file_extension": ".py",
   "mimetype": "text/x-python",
   "name": "python",
   "nbconvert_exporter": "python",
   "pygments_lexer": "ipython3",
   "version": "3.7.4"
  }
 },
 "nbformat": 4,
 "nbformat_minor": 2
}
