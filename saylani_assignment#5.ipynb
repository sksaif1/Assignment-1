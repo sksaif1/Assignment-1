{
 "cells": [
  {
   "cell_type": "code",
   "execution_count": 1,
   "metadata": {},
   "outputs": [
    {
     "name": "stdout",
     "output_type": "stream",
     "text": [
      "The factorial of 5 is 120\n"
     ]
    }
   ],
   "source": [
    "def fractional(num=5):\n",
    "  farct = 1\n",
    "\n",
    "  if num < 0:\n",
    "     print(\"Sorry, factorial does not exist for negative numbers\")\n",
    "  elif num == 0:\n",
    "     print(\"The factorial of 0 is 1\")\n",
    "  else:\n",
    "     for i in range(1,num + 1):\n",
    "         farct = farct*i\n",
    "     print(\"The factorial of\",num,\"is\",farct)\n",
    "    \n",
    "fractional()"
   ]
  },
  {
   "cell_type": "code",
   "execution_count": 2,
   "metadata": {},
   "outputs": [
    {
     "name": "stdout",
     "output_type": "stream",
     "text": [
      "Original String :  My Name is Muhammad Saif\n",
      "No. of Upper case characters :  4\n",
      "No. of Lower case Characters :  16\n"
     ]
    }
   ],
   "source": [
    "def string_test(count):\n",
    "    d={\"upper_case\":0, \"lower_case\":0}\n",
    "    for check in count:\n",
    "        if check.isupper():\n",
    "           d[\"upper_case\"]+=1\n",
    "        elif check.islower():\n",
    "           d[\"lower_case\"]+=1\n",
    "        else:\n",
    "           pass\n",
    "    print (\"Original String : \", count)\n",
    "    print (\"No. of Upper case characters : \", d[\"upper_case\"])\n",
    "    print (\"No. of Lower case Characters : \", d[\"lower_case\"])\n",
    "\n",
    "string_test('My Name is Muhammad Saif')\n"
   ]
  },
  {
   "cell_type": "code",
   "execution_count": 3,
   "metadata": {},
   "outputs": [
    {
     "name": "stdout",
     "output_type": "stream",
     "text": [
      "[6, 2, 4, 10, 18, 16]\n"
     ]
    }
   ],
   "source": [
    "def even_num(l):\n",
    "    enum = []\n",
    "    for n in l:\n",
    "        if n % 2 == 0:\n",
    "            enum.append(n)\n",
    "    return enum\n",
    "print(even_num([1, 5, 6, 9, 2, 4, 10, 17, 11,18,16]))"
   ]
  },
  {
   "cell_type": "code",
   "execution_count": 13,
   "metadata": {},
   "outputs": [
    {
     "name": "stdout",
     "output_type": "stream",
     "text": [
      "This is Palindrome\n",
      "None\n"
     ]
    }
   ],
   "source": [
    "def Palindrome(string):\n",
    "  left_pos = 0\n",
    "  right_pos = len(string) - 1\n",
    " \n",
    "  while right_pos >= left_pos:\n",
    "    if not string[left_pos] == string[right_pos]:\n",
    "      print(\"This is not Palindrome\")\n",
    "    left_pos += 1\n",
    "    right_pos -= 1\n",
    "  print(\"This is Palindrome\")\n",
    "print(Palindrome('5436345')) "
   ]
  },
  {
   "cell_type": "code",
   "execution_count": 9,
   "metadata": {},
   "outputs": [
    {
     "name": "stdout",
     "output_type": "stream",
     "text": [
      "17 is a prime number\n"
     ]
    }
   ],
   "source": [
    "def prime(num): \n",
    "  if num > 1:\n",
    "\n",
    "     for i in range(2,num):\n",
    "         if (num % i) == 0:\n",
    "             print(num,\"is not a prime number\")\n",
    "             print(i,\"times\",num//i,\"is\",num)\n",
    "             break\n",
    "     else:\n",
    "         print(num,\"is a prime number\")\n",
    "       \n",
    "  else:\n",
    "     print(num,\"is not a prime number\")\n",
    "\n",
    "prime(17)"
   ]
  },
  {
   "cell_type": "code",
   "execution_count": 19,
   "metadata": {},
   "outputs": [
    {
     "name": "stdout",
     "output_type": "stream",
     "text": [
      "you selected: rice\n",
      "you selected: soap\n",
      "you selected: oli\n",
      "you selected: chicken\n",
      "you selected: wheat\n",
      "you selected: thoot paste\n",
      "you selected: salt\n",
      "you selected: sugar\n"
     ]
    }
   ],
   "source": [
    "def shopping(*items):\n",
    "    for item in items:\n",
    "        print(\"you selected:\",item)\n",
    "        \n",
    "shopping('rice','soap','oli','chicken','wheat','thoot paste','salt','sugar')\n",
    "    \n"
   ]
  },
  {
   "cell_type": "code",
   "execution_count": null,
   "metadata": {},
   "outputs": [],
   "source": []
  }
 ],
 "metadata": {
  "kernelspec": {
   "display_name": "Python 3",
   "language": "python",
   "name": "python3"
  },
  "language_info": {
   "codemirror_mode": {
    "name": "ipython",
    "version": 3
   },
   "file_extension": ".py",
   "mimetype": "text/x-python",
   "name": "python",
   "nbconvert_exporter": "python",
   "pygments_lexer": "ipython3",
   "version": "3.7.4"
  }
 },
 "nbformat": 4,
 "nbformat_minor": 2
}
