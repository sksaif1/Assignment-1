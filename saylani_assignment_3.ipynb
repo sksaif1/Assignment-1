{
 "cells": [
  {
   "cell_type": "code",
   "execution_count": 1,
   "metadata": {},
   "outputs": [
    {
     "name": "stdout",
     "output_type": "stream",
     "text": [
      "Enter the first value = 4\n",
      "Enter the second value = 3\n",
      "opertor use in calculator \n",
      "+ for addition \n",
      "- for subtraction \n",
      "* multiply \n",
      "/ divide \n",
      "** for power\n",
      "Enter the operator = **\n",
      "your Answer 4 ** 3 = 64\n"
     ]
    }
   ],
   "source": [
    "fval=int(input('Enter the first value = '))\n",
    "sval=int(input('Enter the second value = '))\n",
    "sign=('opertor use in calculator \\n+ for addition \\n- for subtraction \\n* multiply \\n/ divide \\n** for power')\n",
    "print(sign)\n",
    "opt= input('Enter the operator = ')\n",
    "\n",
    "if opt =='+':\n",
    "    val=fval+sval\n",
    "    ans=('your Answer %s + %s = %s')\n",
    "    print(ans % (fval,sval,val))\n",
    "\n",
    "elif opt =='-':\n",
    "    val=fval-sval\n",
    "    ans=('your Answer %s - %s = %s')\n",
    "    print(ans % (fval,sval,val))\n",
    "\n",
    "elif opt =='*':\n",
    "    val=fval*sval\n",
    "    ans=('your Answer %s * %s = %s')\n",
    "    print(ans % (fval,sval,val))\n",
    "\n",
    "elif opt =='/':\n",
    "    val=fval/sval\n",
    "    ans=('your Answer %s / %s = %s')\n",
    "    print(ans % (fval,sval,val))\n",
    "\n",
    "elif opt =='**':\n",
    "    val=fval**sval\n",
    "    ans=('your Answer %s ** %s = %s')\n",
    "    print(ans % (fval,sval,val))\n",
    "\n",
    "\n",
    "else:\n",
    "    print('You enter the wrong Opertor')\n",
    "\n"
   ]
  },
  {
   "cell_type": "code",
   "execution_count": 8,
   "metadata": {},
   "outputs": [
    {
     "name": "stdout",
     "output_type": "stream",
     "text": [
      "there is number\n"
     ]
    }
   ],
   "source": [
    "\n",
    "team=[1,'saif',3,'ali',5,6,'faizan',8,9]\n",
    "num=[1,2,3,4,5,6,7,8,9]\n",
    "for check in team:\n",
    "    if num==check:\n",
    "        print(\"there is number\")\n",
    "        break\n",
    "    else :\n",
    "        print(\"there is number\")\n",
    "        break"
   ]
  },
  {
   "cell_type": "code",
   "execution_count": 3,
   "metadata": {},
   "outputs": [
    {
     "name": "stdout",
     "output_type": "stream",
     "text": [
      "{'Saif': 'shaikh', 'murtaza': 'ali', 'basit': 'khan', 'shoaib': 'javed', 'umair': 'ahmed'}\n"
     ]
    }
   ],
   "source": [
    "a={\n",
    "    \"Saif\":\"shaikh\",\n",
    "    \"murtaza\":\"ali\",\n",
    "    \"basit\":\"khan\",\n",
    "    \"shoaib\":\"javed\",   \n",
    "}\n",
    "\n",
    "a.update({\"umair\":\"ahmed\"})\n",
    "print(a)"
   ]
  },
  {
   "cell_type": "code",
   "execution_count": 4,
   "metadata": {},
   "outputs": [
    {
     "name": "stdout",
     "output_type": "stream",
     "text": [
      "310\n"
     ]
    }
   ],
   "source": [
    "x={\n",
    "    \"soap\": 20,\n",
    "    \"coke\": 50,\n",
    "    \"lays\": 40,\n",
    "    \"tapal\": 90,\n",
    "    \"milk\": 30,\n",
    "    \"water\": 80,\n",
    "}\n",
    "\n",
    "print(sum(x.values()))"
   ]
  },
  {
   "cell_type": "code",
   "execution_count": 5,
   "metadata": {},
   "outputs": [
    {
     "name": "stdout",
     "output_type": "stream",
     "text": [
      "[33, 4, 6, 10, 8]\n"
     ]
    }
   ],
   "source": [
    "a = [ 4, 6, 8, 33, 53, 10, 33, 4, 45, 25, 12, 30,6,33,10,8]\n",
    "dup = []\n",
    "unique = {}\n",
    "for b in a:\n",
    "   if b not in unique:\n",
    "      unique[b] = 1\n",
    "   else:\n",
    "      if unique[b] == 1:\n",
    "         dup.append(b)\n",
    "      unique[b] += 1\n",
    "print(dup)"
   ]
  },
  {
   "cell_type": "code",
   "execution_count": 6,
   "metadata": {},
   "outputs": [
    {
     "name": "stdout",
     "output_type": "stream",
     "text": [
      "Key is present in the dictionary\n",
      "Key is not present in the dictionary\n"
     ]
    }
   ],
   "source": [
    "a = {1: 63, 29: 4, 3: 37, 4: 20, 5: 66, 6: 98, 7: 17, 8 : 55, 9 : 48}\n",
    "def is_key_present(x):\n",
    "  if x in a:\n",
    "      print('Key is present in the dictionary')\n",
    "  else:\n",
    "      print('Key is not present in the dictionary')\n",
    "is_key_present(9)\n",
    "is_key_present(11)"
   ]
  },
  {
   "cell_type": "code",
   "execution_count": null,
   "metadata": {},
   "outputs": [],
   "source": []
  }
 ],
 "metadata": {
  "kernelspec": {
   "display_name": "Python 3",
   "language": "python",
   "name": "python3"
  },
  "language_info": {
   "codemirror_mode": {
    "name": "ipython",
    "version": 3
   },
   "file_extension": ".py",
   "mimetype": "text/x-python",
   "name": "python",
   "nbconvert_exporter": "python",
   "pygments_lexer": "ipython3",
   "version": "3.7.4"
  }
 },
 "nbformat": 4,
 "nbformat_minor": 2
}
